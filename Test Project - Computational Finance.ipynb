{
 "cells": [
  {
   "cell_type": "markdown",
   "metadata": {
    "collapsed": true
   },
   "source": [
    "<h1><center>Test Project - Computational Finance<!center></h1>\n",
    "<h2><center>Complete Market Models & Pricing Library<!center></h2>\n",
    "<h3><center>Date: 2023-03-02<!center></h3>\n",
    "<h3><center>Author: Alexander Nadjalin<!center></h3>"
   ]
  },
  {
   "cell_type": "markdown",
   "source": [
    "This is the solution for the test project in Computational Finance for The Pyton Quants Platinum Certificate Program, January 2023 cohort."
   ],
   "metadata": {
    "collapsed": false
   }
  },
  {
   "cell_type": "markdown",
   "source": [
    "### Task\n",
    "\n",
    "Write a pricing library for European plain vanilla and exotic options making use of geometric Brownian motion as the stochastic process. The pricing shall be based on Monte Carlo simulation.\n",
    "\n",
    "The pricing library shall have:\n",
    "\n",
    "* a class for the risk-neutral discounting (taking the short rate as parameter, generating discount factors as required, etc.)\n",
    "* a class to model the parameters of the underyling risk factor and a European option (initial value, volatility, time-to-maturity, dividends, strike price, option type etc.)\n",
    "* a class to value European vanilla options based on Monte Carlo simulation\n",
    "* a class to value European lookback options — with either fixed or floating strike (see https://en.wikipedia.org/wiki/Lookback_option)\n",
    "* a class to value European Asian options — with either fixed price or fixed strike (see https://en.wikipedia.org/wiki/Asian_option)"
   ],
   "metadata": {
    "collapsed": false
   }
  },
  {
   "cell_type": "markdown",
   "source": [
    "# Table of contents\n",
    "1. [About this notebook](#aboutthisnotebook)\n",
    "2. [Numerical procedure](#numericalprocedure)\n",
    "3. [The underlying stock price](#theunderlyingstockprice)\n",
    "    1. [The dynamics](#thedynamics)\n",
    "    2. [Simulating the GBM](#simulatingthegbm)\n",
    "4. [Option pricing](#optionpricing)\n",
    "    1. [European vanilla option](#vanillaoption)\n",
    "    2. [European lookback options](#lookbackoption)\n",
    "    3. [European Asian option](#asianoption)\n",
    "5. [Results](#results)"
   ],
   "metadata": {
    "collapsed": false
   }
  },
  {
   "cell_type": "markdown",
   "source": [
    "# About this notebook\n",
    "## Assumptions\n",
    "* We are working under the risk neutral density $Q$.\n",
    "## Error handling\n",
    "* There is no error handling or warnings included in this solution.\n",
    "## Code\n",
    "* The code in this Notebook is not optimized in any way."
   ],
   "metadata": {
    "collapsed": false
   }
  },
  {
   "cell_type": "markdown",
   "source": [
    "# Numerical procedure\n",
    "Stuff."
   ],
   "metadata": {
    "collapsed": false
   }
  },
  {
   "cell_type": "markdown",
   "source": [
    "# The underlying stock price\n",
    "Stuff."
   ],
   "metadata": {
    "collapsed": false
   },
   "outputs": [
    {
     "ename": "SyntaxError",
     "evalue": "invalid syntax (1787519412.py, line 2)",
     "output_type": "error",
     "traceback": [
      "\u001B[1;36m  Cell \u001B[1;32mIn[1], line 2\u001B[1;36m\u001B[0m\n\u001B[1;33m    Stuff.\u001B[0m\n\u001B[1;37m          ^\u001B[0m\n\u001B[1;31mSyntaxError\u001B[0m\u001B[1;31m:\u001B[0m invalid syntax\n"
     ]
    }
   ],
   "execution_count": 1
  },
  {
   "cell_type": "markdown",
   "source": [
    "## The dynamics\n",
    "The underlying stock price follows a geometric Brownian motion (GBM)\n",
    "\n",
    "$$\n",
    "\\begin{align}\n",
    "dS_t = r S_t dt + \\sigma S_t dZ_t\n",
    "\\tag{1}\n",
    "\\end{align}\n",
    "$$\n",
    "\n",
    "where:\n",
    "* $S_0 \\in R_{>0}$ is the underlying stock price at time *t*\n",
    "* $r$ is the constant short rate\n",
    "* $\\sigma \\in R_{>0}$ is the constant volatility\n",
    "* $Z_t$ an arithmetic Brownian motion.\n",
    "\n",
    "Because we are working under the risk neutral density $Q$, $\\mu$ is replaced by the risk-free rate as part of the no-arbitrage assumption. The drift part of equation above is $r S_t$ and the diffusion part is $\\sigma S_t$.\n",
    "\n",
    "To represent the return of the underlying stock price $S$, we can model it by using\n",
    "\n",
    "$$\n",
    "\\begin{align}\n",
    "\\frac{dS}{S} = r dt + \\sigma dW\n",
    "\\tag{2}\n",
    "\\end{align}\n",
    "$$\n",
    "\n",
    "where $\\sigma$ is the constant annualized stock price volatility and $Z$ is the GBM."
   ],
   "metadata": {
    "collapsed": false
   }
  },
  {
   "cell_type": "markdown",
   "source": [
    "## Simulating the GBM\n",
    "We can use the *Euler scheme* to discretely simulate $S(t)$. The EM is defined from (2) recursively as\n",
    "\n",
    "$$\n",
    "\\begin{align}\n",
    "S_t = S_{t - \\Delta t} e^{\\biggl(\\biggl(r - \\frac{\\sigma^2}{2} \\biggr) \\Delta t + \\sigma \\sqrt{\\Delta t} z\\biggr)}\n",
    "\\tag{3}\n",
    "\\end{align}\n",
    "$$\n",
    "\n",
    "where $z$ is a standard normally distributed random variable. The value of $S$ at time $t$, is dependant on the value of $S$ at time $t - 1$, the random variable $z$, and the constant parameters $\\Delta t$, $\\sigma$ and $r$."
   ],
   "metadata": {
    "collapsed": false
   }
  },
  {
   "cell_type": "markdown",
   "source": [
    "### Code for simulating the GBM ###\n",
    "Below is the Python code to simulate one complete path of $S$ from $t = 0$ to $t = 1$ with $\\Delta t = 1 / 365$. $\\Delta t$ is chosen to represent the number of days in a standard year (no leap year)."
   ],
   "metadata": {
    "collapsed": false
   }
  },
  {
   "cell_type": "code",
   "execution_count": null,
   "outputs": [],
   "source": [
    "# Imports\n",
    "import numpy as np\n",
    "import random\n",
    "import pandas as pd\n",
    "import math\n",
    "from scipy import stats\n",
    "import matplotlib.pyplot as plt\n",
    "\n",
    "# Notebook magic commands for plots\n",
    "%matplotlib inline\n",
    "%config InlineBackend.figure_format = 'retina'"
   ],
   "metadata": {
    "collapsed": false
   }
  },
  {
   "cell_type": "markdown",
   "source": [
    "# Option pricing\n",
    "Stuff."
   ],
   "metadata": {
    "collapsed": false
   }
  },
  {
   "cell_type": "markdown",
   "source": [
    "## European vanilla option\n",
    "Stuff."
   ],
   "metadata": {
    "collapsed": false
   }
  },
  {
   "cell_type": "markdown",
   "source": [
    "## European lookback option\n",
    "Stuff."
   ],
   "metadata": {
    "collapsed": false
   }
  },
  {
   "cell_type": "markdown",
   "source": [
    "## European Asian option\n",
    "Stuff."
   ],
   "metadata": {
    "collapsed": false
   }
  },
  {
   "cell_type": "markdown",
   "source": [
    "# Results\n",
    "Stuff."
   ],
   "metadata": {
    "collapsed": false
   }
  },
  {
   "cell_type": "code",
   "execution_count": null,
   "outputs": [],
   "source": [],
   "metadata": {
    "collapsed": false
   }
  }
 ],
 "metadata": {
  "kernelspec": {
   "display_name": "Python 3",
   "language": "python",
   "name": "python3"
  },
  "language_info": {
   "codemirror_mode": {
    "name": "ipython",
    "version": 2
   },
   "file_extension": ".py",
   "mimetype": "text/x-python",
   "name": "python",
   "nbconvert_exporter": "python",
   "pygments_lexer": "ipython2",
   "version": "2.7.6"
  }
 },
 "nbformat": 4,
 "nbformat_minor": 0
}
